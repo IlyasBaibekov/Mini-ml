{
 "cells": [
  {
   "cell_type": "code",
   "execution_count": 1,
   "id": "905d5500-b88a-44f0-b610-20324b718e14",
   "metadata": {},
   "outputs": [],
   "source": [
    "import numpy as np\n",
    "import matplotlib.pyplot as plt"
   ]
  },
  {
   "cell_type": "code",
   "execution_count": 2,
   "id": "38ba0c29-0b13-49fe-a7f8-cc805178a77e",
   "metadata": {},
   "outputs": [],
   "source": [
    "x_train = np.array([[10, 50], [20, 30], [25, 30], [20, 60], [15, 70], [40, 40], [30, 45], [20, 45], [40, 30], [7, 35]]) # создали данные\n",
    "y_train = np.array([-1, 1, 1, -1, -1, 1, 1, -1, 1, -1]) #  бинарные метки"
   ]
  },
  {
   "cell_type": "code",
   "execution_count": 3,
   "id": "1cd9c0f9-1a80-4729-8e4a-1d2875d3ca77",
   "metadata": {},
   "outputs": [],
   "source": [
    "n_train = len(x_train)                          # размер обучающей выборки\n",
    "w = [0, -1]                                     # начальное значение вектора w\n",
    "a = lambda x: np.sign(x[0]*w[0] + x[1]*w[1])    # решающее правило (скалярное произведение, дающее либо +1 либо -1)\n",
    "N = 50                                          # максимальное число итераций\n",
    "L = 0.1                                         # шаг изменения веса\n",
    "e = 0.1    \n",
    "                                     # небольшая добавка для w0 чтобы был зазор между разделяющей линией и граничным образом\n",
    "\n",
    "last_error_index = -1                           # индекс последнего ошибочного наблюдения\n"
   ]
  },
  {
   "cell_type": "code",
   "execution_count": 4,
   "id": "5e56348c-6e83-4979-8ad1-6e6482ca5afb",
   "metadata": {},
   "outputs": [],
   "source": [
    "for n in range(N):\n",
    "    for i in range(n_train):                # перебор по наблюдениям\n",
    "        if y_train[i]*a(x_train[i]) < 0:    # если ошибка классификации,\n",
    "            w[0] = w[0] + L * y_train[i]    # то корректировка веса w0\n",
    "            last_error_index = i\n",
    "\n",
    "    Q = sum([1 for i in range(n_train) if y_train[i]*a(x_train[i]) < 0])\n",
    "    if Q == 0:      # показатель качества классификации (число ошибок)\n",
    "        break       # останов, если все верно классифицируем"
   ]
  },
  {
   "cell_type": "code",
   "execution_count": 5,
   "id": "e2f05b7d-f6b4-486c-9bb7-2ed1c748eec5",
   "metadata": {},
   "outputs": [
    {
     "name": "stdout",
     "output_type": "stream",
     "text": [
      "[1.6000000000000003, -1]\n"
     ]
    }
   ],
   "source": [
    "if last_error_index > -1:\n",
    "    w[0] = w[0] + e * y_train[last_error_index]\n",
    "\n",
    "print(w)\n",
    "\n",
    "line_x = list(range(max(x_train[:, 0])))    # формирование графика разделяющей линии\n",
    "line_y = [w[0]*x for x in line_x]"
   ]
  },
  {
   "cell_type": "code",
   "execution_count": 6,
   "id": "d6fb4450-679e-4c64-b9f5-b4b94c9253cc",
   "metadata": {},
   "outputs": [],
   "source": [
    "x_0 = x_train[y_train == 1]                 # формирование точек для 1-го\n",
    "x_1 = x_train[y_train == -1]                # и 2-го классов"
   ]
  },
  {
   "cell_type": "code",
   "execution_count": 7,
   "id": "6048d8bd-d0c1-4d57-8182-11873d3dc2f5",
   "metadata": {},
   "outputs": [
    {
     "data": {
      "image/png": "[encoded data removed]",
      "text/plain": [
       "<Figure size 640x480 with 1 Axes>"
      ]
     },
     "metadata": {},
     "output_type": "display_data"
    }
   ],
   "source": [
    "plt.scatter(x_0[:, 0], x_0[:, 1], color='red')\n",
    "plt.scatter(x_1[:, 0], x_1[:, 1], color='blue')\n",
    "plt.plot(line_x, line_y, color='green')\n",
    "\n",
    "plt.xlim([0, 45])\n",
    "plt.ylim([0, 75])\n",
    "plt.ylabel(\"длина\")\n",
    "plt.xlabel(\"ширина\")\n",
    "plt.grid(True)\n",
    "plt.show()"
   ]
  },
  {
   "cell_type": "code",
   "execution_count": 8,
   "id": "800bf1be-1bdd-4131-bc6d-9791800266bd",
   "metadata": {},
   "outputs": [],
   "source": [
    "import numpy as np\n",
    "import matplotlib.pyplot as plt"
   ]
  },
  {
   "cell_type": "code",
   "execution_count": 9,
   "id": "af1e1676-e6d1-4c2f-abc7-a4d120cd7bc5",
   "metadata": {},
   "outputs": [],
   "source": [
    "x_train = [[10, 50], [20, 30], [25, 30], [20, 60], [15, 70], [40, 40], [30, 45], [20, 45], [40, 30], [7, 35]]\n",
    "x_train = [x + [1] for x in x_train]\n",
    "x_train = np.array(x_train)\n",
    "y_train = np.array([-1, 1, 1, -1, -1, 1, 1, -1, 1, -1])"
   ]
  },
  {
   "cell_type": "code",
   "execution_count": 10,
   "id": "237d2b35-2401-459e-bba7-8c9f7754c13a",
   "metadata": {},
   "outputs": [
    {
     "name": "stdout",
     "output_type": "stream",
     "text": [
      "[ 0.05793234 -0.0346272   0.1912188 ]\n"
     ]
    }
   ],
   "source": [
    "pt = np.sum([x * y for x, y in zip(x_train, y_train)], axis=0) # точное решение по методу наименьших квадратов\n",
    "xxt = np.sum([np.outer(x, x) for x in x_train], axis=0)\n",
    "w = np.dot(pt, np.linalg.inv(xxt))\n",
    "print(w)"
   ]
  },
  {
   "cell_type": "code",
   "execution_count": 11,
   "id": "6c34c85b-70bd-4978-ae3d-f4c2f77078dd",
   "metadata": {},
   "outputs": [],
   "source": [
    "line_x = list(range(max(x_train[:, 0])))    # формирование графика разделяющей линии\n",
    "line_y = [-x*w[0]/w[1] - w[2]/w[1] for x in line_x]"
   ]
  },
  {
   "cell_type": "code",
   "execution_count": 12,
   "id": "eb50e7bf-2bbf-4b17-9ab9-1f663c91d796",
   "metadata": {},
   "outputs": [],
   "source": [
    "x_0 = x_train[y_train == 1]                 # формирование точек для 1-го\n",
    "x_1 = x_train[y_train == -1]                # и 2-го классов"
   ]
  },
  {
   "cell_type": "code",
   "execution_count": 15,
   "id": "e09417af-bfa6-43cf-a73b-b459dcfb29f2",
   "metadata": {},
   "outputs": [
    {
     "data": {
      "image/png": "[encoded data removed]",
      "text/plain": [
       "<Figure size 640x480 with 1 Axes>"
      ]
     },
     "metadata": {},
     "output_type": "display_data"
    }
   ],
   "source": [
    "plt.scatter(x_0[:, 0], x_0[:, 1], color='red')\n",
    "plt.scatter(x_1[:, 0], x_1[:, 1], color='blue')\n",
    "plt.plot(line_x, line_y, color='green')\n",
    "plt.xlim([0, 45])\n",
    "plt.ylim([0, 75])\n",
    "plt.ylabel(\"длина\")\n",
    "plt.xlabel(\"ширина\")\n",
    "plt.grid(True)\n",
    "plt.show()"
   ]
  },
  {
   "cell_type": "code",
   "execution_count": null,
   "id": "43ed1a4f-2a3b-4a01-a7d1-025cec1f0097",
   "metadata": {},
   "outputs": [],
   "source": [
    "Градиентный спуск берет все выборку, \n",
    "считает для каждого объекта градиент функции ошибки (а именно считаем для начала саму функцию ошибки как разность объекта и истины а затем \n",
    "дифференцируем), потом усредняем. \n",
    "\n",
    "А стохаистический градиентный спуск не усредняет, а берет и сразу прибавляет вектор, ну или усредняет по подвыборке. "
   ]
  },
  {
   "cell_type": "code",
   "execution_count": 16,
   "id": "bb99c4c1-429f-4b75-bf44-a07bcfa87815",
   "metadata": {},
   "outputs": [],
   "source": [
    "import numpy as np\n",
    "import matplotlib.pyplot as plt"
   ]
  },
  {
   "cell_type": "code",
   "execution_count": 17,
   "id": "7fdd5074-6d98-4437-95c3-b361028cfaab",
   "metadata": {},
   "outputs": [],
   "source": [
    "# сигмоидная функция потерь \n",
    "# вводим такую функцию потерь, чтобы сгладить нашу функцию, иначе подставляя значения (объекты) градиента никакого не получаем\n",
    "def loss(w, x, y):\n",
    "    M = np.dot(w, x) * y\n",
    "    return 2 / (1 + np.exp(M))"
   ]
  },
  {
   "cell_type": "code",
   "execution_count": null,
   "id": "5d633c13-dc16-4097-aead-ea7f778d9a3a",
   "metadata": {},
   "outputs": [],
   "source": [
    "# производная сигмоидной функции потерь по вектору w\n",
    "def df(w, x, y):\n",
    "    M = np.dot(w, x) * y\n",
    "    return -2 * (1 + np.exp(M)) ** (-2) * np.exp(M) * x * y"
   ]
  },
  {
   "cell_type": "code",
   "execution_count": null,
   "id": "33f4ee35-1298-4ef0-bbb0-d047db9e7f6a",
   "metadata": {},
   "outputs": [],
   "source": [
    "# обучающая выборка с тремя признаками (третий - константа +1)\n",
    "x_train = [[10, 50], [20, 30], [25, 30], [20, 60], [15, 70], [40, 40], [30, 45], [20, 45], [40, 30], [7, 35]]\n",
    "x_train = [x + [1] for x in x_train]\n",
    "x_train = np.array(x_train)\n",
    "y_train = np.array([-1, 1, 1, -1, -1, 1, 1, -1, 1, -1])"
   ]
  },
  {
   "cell_type": "code",
   "execution_count": null,
   "id": "816ccc46-3e23-4f0d-ace8-5955de58ef3d",
   "metadata": {},
   "outputs": [],
   "source": [
    "n_train = len(x_train)  # размер обучающей выборки\n",
    "w = [0.0, 0.0, 0.0]  # начальные весовые коэффициенты\n",
    "nt = 0.0005  # шаг сходимости SGD\n",
    "lm = 0.01  # скорость \"забывания\" для Q\n",
    "N = 500  # число итераций SGD\n",
    "\n",
    "Q = np.mean([loss(w, x, y) for x, y in zip(x_train, y_train)])  # показатель качества\n",
    "Q_plot = [Q]"
   ]
  },
  {
   "cell_type": "code",
   "execution_count": null,
   "id": "6c68e41f-4a2a-453a-9d1d-608144fb1451",
   "metadata": {},
   "outputs": [],
   "source": [
    "for i in range(N):\n",
    "    k = np.random.randint(0, n_train - 1)  # случайный индекс\n",
    "    ek = loss(w, x_train[k], y_train[k])  # вычисление потерь для выбранного вектора\n",
    "    w = w - nt * df(w, x_train[k], y_train[k])  # корректировка весов по SGD\n",
    "    Q = lm * ek + (1 - lm) * Q  # пересчет показателя качества\n",
    "    Q_plot.append(Q)"
   ]
  },
  {
   "cell_type": "code",
   "execution_count": null,
   "id": "ce19a2cf-7d20-44ab-a364-9ba322380632",
   "metadata": {},
   "outputs": [],
   "source": [
    "print(w)\n",
    "print(Q_plot)\n",
    "\n",
    "line_x = list(range(max(x_train[:, 0])))  # формирование графика разделяющей линии\n",
    "line_y = [-x * w[0] / w[1] - w[2] / w[1] for x in line_x]\n",
    "\n",
    "x_0 = x_train[y_train == 1]  # формирование точек для 1-го\n",
    "x_1 = x_train[y_train == -1]  # и 2-го классов\n",
    "\n",
    "plt.scatter(x_0[:, 0], x_0[:, 1], color='red')\n",
    "plt.scatter(x_1[:, 0], x_1[:, 1], color='blue')\n",
    "plt.plot(line_x, line_y, color='green')\n",
    "\n",
    "plt.xlim([0, 45])\n",
    "plt.ylim([0, 75])\n",
    "plt.ylabel(\"длина\")\n",
    "plt.xlabel(\"ширина\")\n",
    "plt.grid(True)\n",
    "plt.show()"
   ]
  }
 ],
 "metadata": {
  "kernelspec": {
   "display_name": "Python 3 (ipykernel)",
   "language": "python",
   "name": "python3"
  },
  "language_info": {
   "codemirror_mode": {
    "name": "ipython",
    "version": 3
   },
   "file_extension": ".py",
   "mimetype": "text/x-python",
   "name": "python",
   "nbconvert_exporter": "python",
   "pygments_lexer": "ipython3",
   "version": "3.13.0"
  }
 },
 "nbformat": 4,
 "nbformat_minor": 5
}
